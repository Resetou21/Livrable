{
 "cells": [
  {
   "cell_type": "code",
   "execution_count": 2,
   "id": "39d7bcd6-8454-4858-a7d2-aee0dc9d4f32",
   "metadata": {},
   "outputs": [],
   "source": [
    "### Livrable 1"
   ]
  },
  {
   "cell_type": "code",
   "execution_count": null,
   "id": "08710b32-4fca-41c0-aa4a-ddc8a69534cd",
   "metadata": {},
   "outputs": [],
   "source": []
  }
 ],
 "metadata": {
  "kernelspec": {
   "display_name": "Python 3 (ipykernel)",
   "language": "python",
   "name": "python3"
  },
  "language_info": {
   "codemirror_mode": {
    "name": "ipython",
    "version": 3
   },
   "file_extension": ".py",
   "mimetype": "text/x-python",
   "name": "python",
   "nbconvert_exporter": "python",
   "pygments_lexer": "ipython3",
   "version": "3.13.3"
  }
 },
 "nbformat": 4,
 "nbformat_minor": 5
}
